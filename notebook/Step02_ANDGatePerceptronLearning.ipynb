{
 "cells": [
  {
   "cell_type": "markdown",
   "id": "72f8ff2d",
   "metadata": {},
   "source": [
    "# 🧠 AND Gate Perceptron Learning\n",
    "\n",
    "This notebook demonstrates how a simple perceptron model learns the logic behind the AND gate.  \n",
    "\n",
    "🔍It covers:  \n",
    "- Step-by-step training based on the perceptron learning rule   \n",
    "- Final testing and evaluation"
   ]
  },
  {
   "cell_type": "markdown",
   "id": "7e0fc415",
   "metadata": {},
   "source": [
    "## 🔧 Step 2 [Hands-on]: AND Gate Perceptron Learning from Scratch\n",
    "\n",
    "Now the real hands-on part begins!  \n",
    "In this step, we define the input values and their expected outputs for the AND gate.\n",
    "\n",
    "The AND gate is a logical function that returns `1` only when **both inputs are 1**.  \n",
    "We will create the input-output pairs that serve as training data for the perceptron.\n",
    "\n"
   ]
  },
  {
   "cell_type": "markdown",
   "id": "14134045",
   "metadata": {},
   "source": [
    "\n",
    "### 🔢 Input and Output Mapping for the AND Gate:\n",
    "\n",
    "| Input `x₁` | Input `x₂` | Target `t` (x₁ AND x₂) |\n",
    "|------------|------------|-------------------------|\n",
    "| 0          | 0          | 0                       |\n",
    "| 0          | 1          | 0                       |\n",
    "| 1          | 0          | 0                       |\n",
    "| 1          | 1          | 1                       |\n",
    "\n",
    "We'll use this data to train our perceptron in the next steps.  \n",
    "Let’s move forward!"
   ]
  },
  {
   "cell_type": "markdown",
   "id": "19d8fd58",
   "metadata": {},
   "source": [
    "### 🔧 Step 2.1: Setup\n",
    "\n",
    "Import the required libraries.\n",
    "\n",
    "If you're running this notebook on a new environment, make sure to install the required packages first:\n",
    "\n",
    "```bash\n",
    "pip install matplotlib\n",
    "```"
   ]
  },
  {
   "cell_type": "code",
   "execution_count": 1,
   "id": "2596feaf",
   "metadata": {},
   "outputs": [],
   "source": [
    "# === Import the required libraries ===\n",
    "import json                         # Save the learning history file\n",
    "import random                       # Randomize input order in tests\n",
    "import matplotlib.pyplot as plt     # Plotting\n",
    "\n",
    "# === Set a random seed for reproducibility ===\n",
    "# This ensures that any random operations (e.g. shuffling, random weight initialization)\n",
    "# will produce the same results every time the notebook is run.\n",
    "random.seed(42)\n",
    "\n",
    "# Display plots inside Jupyter\n",
    "%matplotlib inline\n"
   ]
  },
  {
   "cell_type": "markdown",
   "id": "90ded401",
   "metadata": {},
   "source": [
    "### 🧮 Step 2.2: Define Input and Target Output\n",
    "\n",
    "We define the four possible input combinations for the AND gate  \n",
    "along with their corresponding target values."
   ]
  },
  {
   "cell_type": "code",
   "execution_count": 2,
   "id": "2117da93",
   "metadata": {},
   "outputs": [],
   "source": [
    "# === Define training data for the AND logic gate ===\n",
    "# Each item is a pair of binary inputs: [x1, x2]\n",
    "inputs = [\n",
    "    [0, 0],\n",
    "    [0, 1],\n",
    "    [1, 0],\n",
    "    [1, 1]\n",
    "]\n",
    "\n",
    "# === Define expected outputs for the AND logic gate ===\n",
    "# These are the target values that the perceptron should learn\n",
    "targets = [\n",
    "       # x1 AND x2\n",
    "    0, #  0 AND  0 = 0\n",
    "    0, #  0 AND  1 = 0\n",
    "    0, #  1 AND  0 = 0\n",
    "    1, #  1 AND  1 = 1 \n",
    "]\n",
    "\n",
    "# === Ensure input and target data are properly aligned ===\n",
    "assert len(inputs) == len(targets)"
   ]
  },
  {
   "cell_type": "markdown",
   "id": "e2edbe9a",
   "metadata": {},
   "source": [
    "> **📝 Note:**  \n",
    "> The AND gate outputs `1` only when both inputs are `1`.  \n",
    "> These examples represent all possible combinations of two binary inputs."
   ]
  },
  {
   "cell_type": "markdown",
   "id": "40a1d69e",
   "metadata": {},
   "source": [
    "### 🧠 Step 2.3: Define Step Function\n",
    "\n",
    "We define a step activation function that returns `1`  \n",
    "when the input is greater than or equal to `0`, and `0` otherwise."
   ]
  },
  {
   "cell_type": "code",
   "execution_count": 3,
   "id": "eaadaafe",
   "metadata": {},
   "outputs": [],
   "source": [
    "# === Step activation function ===\n",
    "def step(z):\n",
    "    \"\"\"Step activation function: returns 1 if z >= 0, else 0\"\"\"\n",
    "    return 1 if z >= 0 else 0"
   ]
  },
  {
   "cell_type": "markdown",
   "id": "81b5779c",
   "metadata": {},
   "source": [
    "> **📝 Note:**  \n",
    "> The step function is commonly used in binary classifiers such as the perceptron,  \n",
    "> especially when the output should be either `0` or `1`.\n",
    "\n",
    "\n",
    "> **💡 Tips**  \n",
    "> In modern neural networks, the step function is often replaced by smoother functions  \n",
    "> like the sigmoid or ReLU to enable gradient-based optimization.\n",
    "\n",
    "> **📝 Note:**  \n",
    "> The perceptron with a step activation function can solve problems that are **linearly separable**,  \n",
    "> such as the AND or OR gates.  \n",
    "> It cannot correctly classify problems like the XOR gate, which are **not linearly separable**"
   ]
  },
  {
   "cell_type": "markdown",
   "id": "723664f5",
   "metadata": {},
   "source": [
    "#### 📈 Step 2.3.1: Step Function Visualization\n",
    "\n",
    "The plot below shows the behavior of the step activation function.\n",
    "\n",
    "- It returns **1** when the input ≥ 0\n",
    "- It returns **0** when the input < 0\n",
    "\n",
    "This function acts as a simple threshold and is commonly used in perceptron models to produce binary outputs."
   ]
  },
  {
   "cell_type": "code",
   "execution_count": 4,
   "id": "6b9afc8b",
   "metadata": {},
   "outputs": [
    {
     "data": {
      "image/png": "[encoded data removed]",
      "text/plain": [
       "<Figure size 500x200 with 1 Axes>"
      ]
     },
     "metadata": {},
     "output_type": "display_data"
    }
   ],
   "source": [
    "# === Generate x values manually (from -5 to 5, with step 0.1) ===\n",
    "x_vals = []\n",
    "y_vals = []\n",
    "\n",
    "x = -5.0\n",
    "while x <= 5.0:\n",
    "    x_vals.append(x)\n",
    "    y_vals.append(step(x))  # Apply the step function\n",
    "    x += 0.1    # Increment by 0.1\n",
    "\n",
    "# === Plot the step function ===\n",
    "fig, ax = plt.subplots(figsize=(5, 2))\n",
    "ax.plot(x_vals, y_vals, color=\"blue\", linewidth=2)\n",
    "ax.grid(True, alpha=0.5)\n",
    "ax.set_xlabel(\"Input\")\n",
    "ax.set_ylabel(\"Output\")\n",
    "ax.set_title(\"Step Activation Function\")\n",
    "\n",
    "# Show threshold at x = 0\n",
    "ax.axvline(0, color='red', linestyle='--', label=\"Threshold (x = 0)\")\n",
    "\n",
    "plt.legend()\n",
    "\n",
    "plt.show()\n"
   ]
  },
  {
   "cell_type": "markdown",
   "id": "ac6acc5d",
   "metadata": {},
   "source": [
    "### 🛠️ Step 2.4: Initialize Parameters\n",
    "\n",
    "We use the step activation function  \n",
    "and initialize the weights and bias with either zeros or random values."
   ]
  },
  {
   "cell_type": "code",
   "execution_count": 5,
   "id": "cfa045d8",
   "metadata": {},
   "outputs": [
    {
     "name": "stdout",
     "output_type": "stream",
     "text": [
      "weights=[0.2788535969157675, -0.9499784895546661], bias=-0.4499413632617615\n"
     ]
    }
   ],
   "source": [
    "# === Initialize weights and bias ===\n",
    "\n",
    "# --- [Option 1: Initialize all to 0.0 for deterministic behavior (uncomment to use)] ---\n",
    "# This is useful for reproducibility and debugging.\n",
    "# In practice, however, random initialization is preferred to break symmetry.\n",
    "# weights = [0.0, 0.0]    # Initial weights: w1 and w2\n",
    "# bias = 0.0              # Initial bias\n",
    "\n",
    "# --- [Option 2: Random initialization for symmetry breaking (default)] ---\n",
    "# This is useful because random values help the perceptron learn independent features.\n",
    "weights = [random.uniform(-1, 1) for _ in range(2)]     # Initial weights: w1 and w2\n",
    "bias = random.uniform(-1, 1)    # Initial bias\n",
    "\n",
    "print(f\"weights={weights}, bias={bias}\")\n",
    "\n",
    "# === Set learning rate ===\n",
    "# Controls how much the weights are updated during training\n",
    "learning_rate = 0.1     # Typical value for a perceptron"
   ]
  },
  {
   "cell_type": "markdown",
   "id": "6fb9e857",
   "metadata": {},
   "source": [
    "> **📝 Note:**  \n",
    "> Random initialization helps each neuron learn unique features.  \n",
    "> Setting all weights to 0 would cause all neurons to learn the same thing, making learning ineffective. \n"
   ]
  },
  {
   "cell_type": "markdown",
   "id": "2a47296a",
   "metadata": {},
   "source": [
    "### 🔍 Step 2.5: Check Model Predictions Before Training\n",
    "\n",
    "Before applying the Perceptron Learning Rule, we test how the untrained model performs.  \n",
    "This helps us visualize the effect of training later on. "
   ]
  },
  {
   "cell_type": "code",
   "execution_count": 6,
   "id": "ee615f90",
   "metadata": {},
   "outputs": [],
   "source": [
    "# === Function to test the trained model on all possible inputs ===\n",
    "def test_model():\n",
    "    global weights, bias\n",
    "    \n",
    "    # Inner function: use current weights and bias to make a prediction\n",
    "    def predict(x1, x2):\n",
    "        w1, w2 = weights\n",
    "        return step( (w1 * x1) + (w2 * x2) + bias )\n",
    "\n",
    "    # Define the 4 possible input combinations for the AND gate\n",
    "    test_data = [[0, 0], [0, 1], [1, 0], [1, 1]]\n",
    "    \n",
    "    # Shuffle input order to avoid relying on a fixed order\n",
    "    random.shuffle(test_data)\n",
    "    \n",
    "    correct_count = 0\n",
    "    \n",
    "    print(\"\\n=== 🧪 Model Test Results ===\")\n",
    "    for d in test_data:\n",
    "        x1, x2 = d\n",
    "        prediction = predict(x1, x2)\n",
    "        correct_answer = x1 & x2    # AND gate ground truth\n",
    "        \n",
    "        # Check if prediction is correct\n",
    "        is_correct = (prediction == correct_answer)\n",
    "        if is_correct:\n",
    "            correct_count += 1\n",
    "        \n",
    "        # Print input, prediction, expected answer, and result\n",
    "        result = \"✅ Correct\" if is_correct else \"❌ Incorrect\"\n",
    "        print(f\"Input: {d}, Prediction: {prediction}, Expected: {correct_answer} → {result}\")\n",
    "        \n",
    "    # Calculate accuracy\n",
    "    accuracy = correct_count / len(test_data) * 100\n",
    "    print(f\"\\nAccuracy: {accuracy:.1f}% ({correct_count}/{len(test_data)})\")\n",
    "    \n",
    "    # Optionally print final weights and bias\n",
    "    print(f\"\\nFinal Weights: w1 = {weights[0]:.3f}, w2 = {weights[1]:.3f}\")\n",
    "    print(f\"Final Bias: {bias:.3f}\")"
   ]
  },
  {
   "cell_type": "markdown",
   "id": "97974fa8",
   "metadata": {},
   "source": [
    "#### ▶️ Step 2.5.1: Run the Test Before Training\n",
    "\n",
    "We now use the `test_model()` function to check how the untrained perceptron performs on all possible AND gate inputs."
   ]
  },
  {
   "cell_type": "code",
   "execution_count": 7,
   "id": "2ea6b123",
   "metadata": {},
   "outputs": [
    {
     "name": "stdout",
     "output_type": "stream",
     "text": [
      "\n",
      "=== 🧪 Model Test Results ===\n",
      "Input: [1, 1], Prediction: 0, Expected: 1 → ❌ Incorrect\n",
      "Input: [1, 0], Prediction: 0, Expected: 0 → ✅ Correct\n",
      "Input: [0, 0], Prediction: 0, Expected: 0 → ✅ Correct\n",
      "Input: [0, 1], Prediction: 0, Expected: 0 → ✅ Correct\n",
      "\n",
      "Accuracy: 75.0% (3/4)\n",
      "\n",
      "Final Weights: w1 = 0.279, w2 = -0.950\n",
      "Final Bias: -0.450\n"
     ]
    }
   ],
   "source": [
    "test_model()"
   ]
  },
  {
   "cell_type": "markdown",
   "id": "c9b1158e",
   "metadata": {},
   "source": [
    "> **📝 Note:**  \n",
    "> Evaluating the model before training helps highlight the improvements achieved by the Perceptron Learning Rule.  \n",
    "> This baseline performance can be used to compare the effect of weight updates after training."
   ]
  },
  {
   "cell_type": "markdown",
   "id": "a9114799",
   "metadata": {},
   "source": [
    "### 🚀 Step 2.6: Training Loop (Perceptron Learning)\n",
    "\n",
    "This loop applies the Perceptron Learning Rule until all outputs are correct or until a maximum number of epochs.\n",
    "\n",
    "- In each epoch, the model checks all training examples.\n",
    "- If a prediction is incorrect, it updates the weights and bias using the Perceptron Learning Rule.\n",
    "- Training stops early if all predictions are correct.\n"
   ]
  },
  {
   "cell_type": "code",
   "execution_count": 8,
   "id": "dcf917d0",
   "metadata": {},
   "outputs": [],
   "source": [
    "# === Set training limit to prevent infinite loops ===\n",
    "TRAINING_LIMIT = 100\n",
    "\n",
    "# === Initialize history list to record weights and bias after each update ===\n",
    "history = []\n",
    "\n",
    "# ****************************************************************************************************\n",
    "# Perceptron Training Loop\n",
    "# ****************************************************************************************************\n",
    "for epoch in range(TRAINING_LIMIT):\n",
    "    correct_count = 0   # Count of correct predictions in this epoch\n",
    "    \n",
    "    for i in range(len(inputs)):\n",
    "        # === Forward Propagation ===\n",
    "        # Input layer: Get input values and corresponding target\n",
    "        x1, x2 = inputs[i]\n",
    "        target = targets[i]\n",
    "        w1, w2 = weights\n",
    "        \n",
    "        # Output layer (Neuron): Compute weighted sum and apply step function\n",
    "        z = (w1 * x1) + (w2 * x2) + bias    # Linear combination (pre-activation)\n",
    "        y = step(z)\n",
    "        \n",
    "        # === Apply Perceptron Learning Rule ===\n",
    "        error = target - y\n",
    "        \n",
    "        if error == 0:\n",
    "            correct_count += 1\n",
    "            \n",
    "        else:\n",
    "            # Update weights and bias\n",
    "            weights[0] += learning_rate * error * x1\n",
    "            weights[1] += learning_rate * error * x2\n",
    "            bias       += learning_rate * error\n",
    "            \n",
    "        # Record weights and bias after each update\n",
    "        history.append((weights.copy(), bias))\n",
    "    \n",
    "    # Early stopping: Exit if all predictions are correct\n",
    "    if correct_count == len(targets):\n",
    "        break"
   ]
  },
  {
   "cell_type": "markdown",
   "id": "ac0ef440",
   "metadata": {},
   "source": [
    "> **📝 Note:**  \n",
    "> In the Perceptron algorithm,  \n",
    "> `error` typically refers to the raw difference between the target and prediction.  \n",
    "> Unlike modern neural networks that minimize a loss function,  \n",
    "> the perceptron updates the weights directly based on this error.\n",
    "\n",
    "\n",
    "> **📝 Note:**  \n",
    "> The Perceptron Learning Rule updates the weights and bias **only when a mistake is made**.  \n",
    "> This makes the model gradually shift the decision boundary until all inputs are classified correctly."
   ]
  },
  {
   "cell_type": "markdown",
   "id": "ebf42df7",
   "metadata": {},
   "source": [
    "### 🧪 Step 2.7: Final Model Test\n",
    "\n",
    "We evaluate the trained model by predicting the outputs for all inputs and comparing them to the ground truth.\n",
    "\n",
    "> Now that the model has been trained, we run the `test_model()` function again to evaluate its final performance.  \n",
    "> The predictions should now match the expected outputs if learning was successful."
   ]
  },
  {
   "cell_type": "code",
   "execution_count": 9,
   "id": "67c04859",
   "metadata": {},
   "outputs": [
    {
     "name": "stdout",
     "output_type": "stream",
     "text": [
      "\n",
      "=== 🧪 Model Test Results ===\n",
      "Input: [1, 1], Prediction: 1, Expected: 1 → ✅ Correct\n",
      "Input: [0, 1], Prediction: 0, Expected: 0 → ✅ Correct\n",
      "Input: [1, 0], Prediction: 0, Expected: 0 → ✅ Correct\n",
      "Input: [0, 0], Prediction: 0, Expected: 0 → ✅ Correct\n",
      "\n",
      "Accuracy: 100.0% (4/4)\n",
      "\n",
      "Final Weights: w1 = 0.279, w2 = 0.250\n",
      "Final Bias: -0.450\n"
     ]
    }
   ],
   "source": [
    "test_model()"
   ]
  },
  {
   "cell_type": "markdown",
   "id": "ac57bfab",
   "metadata": {},
   "source": [
    "### 👉 Step 2.8: Saving Learning History to a File\n",
    "\n",
    "In this step, we save the learning history to a file so that we can later plot the decision boundary  \n",
    "and better understand how the perceptron learns."
   ]
  },
  {
   "cell_type": "code",
   "execution_count": 10,
   "id": "6f780c56",
   "metadata": {},
   "outputs": [],
   "source": [
    "filepath = \"./learning_history.json\"\n",
    "\n",
    "with open(filepath, mode='w') as fd:\n",
    "    json.dump(\n",
    "        obj={\n",
    "            'inputs': inputs,\n",
    "            'targets': targets,\n",
    "            'history': history\n",
    "        }, fp=fd, indent=2)"
   ]
  },
  {
   "cell_type": "markdown",
   "id": "0558651c",
   "metadata": {},
   "source": [
    "End of Step 2. Let's move on to the next step🔥"
   ]
  }
 ],
 "metadata": {
  "kernelspec": {
   "display_name": "kernel-py3-12-10-jupyter-learn-ai-and",
   "language": "python",
   "name": "kernel-py3-12-10-jupyter-learn-ai-and"
  },
  "language_info": {
   "codemirror_mode": {
    "name": "ipython",
    "version": 3
   },
   "file_extension": ".py",
   "mimetype": "text/x-python",
   "name": "python",
   "nbconvert_exporter": "python",
   "pygments_lexer": "ipython3",
   "version": "3.12.10"
  }
 },
 "nbformat": 4,
 "nbformat_minor": 5
}
